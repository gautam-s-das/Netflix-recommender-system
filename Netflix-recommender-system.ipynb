{
 "cells": [
  {
   "cell_type": "markdown",
   "id": "c0c74eb4-d375-47dc-ae2c-71d100801a4c",
   "metadata": {},
   "source": [
    "# Importing libraries and the datasets"
   ]
  },
  {
   "cell_type": "code",
   "execution_count": 159,
   "id": "5499534e-91e2-4ec6-9771-3f743c228f4a",
   "metadata": {},
   "outputs": [
    {
     "name": "stderr",
     "output_type": "stream",
     "text": [
      "[nltk_data] Downloading package wordnet to\n",
      "[nltk_data]     C:\\Users\\gdas5\\AppData\\Roaming\\nltk_data...\n",
      "[nltk_data]   Package wordnet is already up-to-date!\n",
      "[nltk_data] Downloading package stopwords to\n",
      "[nltk_data]     C:\\Users\\gdas5\\AppData\\Roaming\\nltk_data...\n",
      "[nltk_data]   Package stopwords is already up-to-date!\n",
      "[nltk_data] Downloading package omw-1.4 to\n",
      "[nltk_data]     C:\\Users\\gdas5\\AppData\\Roaming\\nltk_data...\n",
      "[nltk_data]   Package omw-1.4 is already up-to-date!\n"
     ]
    }
   ],
   "source": [
    "# importing the required libraries\n",
    "import pandas as pd\n",
    "import numpy as np\n",
    "import matplotlib.pyplot as plt\n",
    "import seaborn as sns\n",
    "from datetime import datetime as dt\n",
    "\n",
    "import warnings\n",
    "warnings.filterwarnings('ignore')\n",
    "\n",
    "# from wordcloud import WordCloud, STOPWORDS\n",
    "import re, string, unicodedata\n",
    "import nltk\n",
    "#import inflect\n",
    "from bs4 import BeautifulSoup\n",
    "from nltk import word_tokenize, sent_tokenize\n",
    "from nltk.corpus import stopwords\n",
    "from nltk.stem import LancasterStemmer, WordNetLemmatizer\n",
    "from sklearn.feature_extraction.text import TfidfVectorizer\n",
    "from sklearn.decomposition import PCA\n",
    "\n",
    "from nltk.stem import WordNetLemmatizer\n",
    "nltk.download('wordnet')\n",
    "import nltk\n",
    "nltk.download('stopwords')\n",
    "from nltk.corpus import stopwords\n",
    "import string\n",
    "string.punctuation\n",
    "nltk.download('omw-1.4')\n",
    "from nltk.tokenize import TweetTokenizer\n",
    "from sklearn.cluster import KMeans\n",
    "from sklearn.metrics import silhouette_score\n",
    "from sklearn.cluster import AgglomerativeClustering\n",
    "import scipy.cluster.hierarchy as shc\n",
    "\n",
    "from sklearn.feature_extraction.text import CountVectorizer\n",
    "from sklearn.metrics.pairwise import cosine_similarity\n",
    "\n",
    "%matplotlib inline\n",
    "sns.set()"
   ]
  },
  {
   "cell_type": "code",
   "execution_count": 160,
   "id": "455c8d38-be30-42d8-9dce-89f9b0be2084",
   "metadata": {},
   "outputs": [],
   "source": [
    "# reading data\n",
    "path = 'Netflix_movies_and_tv_shows_clustering.csv'\n",
    "\n",
    "original_df = pd.read_csv(path,index_col='show_id')\n",
    "df = original_df.copy()"
   ]
  },
  {
   "cell_type": "code",
   "execution_count": 161,
   "id": "7b8e1dba-817d-4120-b637-92b93ce9b3e7",
   "metadata": {},
   "outputs": [
    {
     "data": {
      "text/html": [
       "<div>\n",
       "<style scoped>\n",
       "    .dataframe tbody tr th:only-of-type {\n",
       "        vertical-align: middle;\n",
       "    }\n",
       "\n",
       "    .dataframe tbody tr th {\n",
       "        vertical-align: top;\n",
       "    }\n",
       "\n",
       "    .dataframe thead th {\n",
       "        text-align: right;\n",
       "    }\n",
       "</style>\n",
       "<table border=\"1\" class=\"dataframe\">\n",
       "  <thead>\n",
       "    <tr style=\"text-align: right;\">\n",
       "      <th></th>\n",
       "      <th>type</th>\n",
       "      <th>title</th>\n",
       "      <th>director</th>\n",
       "      <th>cast</th>\n",
       "      <th>country</th>\n",
       "      <th>date_added</th>\n",
       "      <th>release_year</th>\n",
       "      <th>rating</th>\n",
       "      <th>duration</th>\n",
       "      <th>listed_in</th>\n",
       "      <th>description</th>\n",
       "    </tr>\n",
       "    <tr>\n",
       "      <th>show_id</th>\n",
       "      <th></th>\n",
       "      <th></th>\n",
       "      <th></th>\n",
       "      <th></th>\n",
       "      <th></th>\n",
       "      <th></th>\n",
       "      <th></th>\n",
       "      <th></th>\n",
       "      <th></th>\n",
       "      <th></th>\n",
       "      <th></th>\n",
       "    </tr>\n",
       "  </thead>\n",
       "  <tbody>\n",
       "    <tr>\n",
       "      <th>s1</th>\n",
       "      <td>TV Show</td>\n",
       "      <td>3%</td>\n",
       "      <td>NaN</td>\n",
       "      <td>João Miguel, Bianca Comparato, Michel Gomes, R...</td>\n",
       "      <td>Brazil</td>\n",
       "      <td>August 14, 2020</td>\n",
       "      <td>2020</td>\n",
       "      <td>TV-MA</td>\n",
       "      <td>4 Seasons</td>\n",
       "      <td>International TV Shows, TV Dramas, TV Sci-Fi &amp;...</td>\n",
       "      <td>In a future where the elite inhabit an island ...</td>\n",
       "    </tr>\n",
       "    <tr>\n",
       "      <th>s2</th>\n",
       "      <td>Movie</td>\n",
       "      <td>7:19</td>\n",
       "      <td>Jorge Michel Grau</td>\n",
       "      <td>Demián Bichir, Héctor Bonilla, Oscar Serrano, ...</td>\n",
       "      <td>Mexico</td>\n",
       "      <td>December 23, 2016</td>\n",
       "      <td>2016</td>\n",
       "      <td>TV-MA</td>\n",
       "      <td>93 min</td>\n",
       "      <td>Dramas, International Movies</td>\n",
       "      <td>After a devastating earthquake hits Mexico Cit...</td>\n",
       "    </tr>\n",
       "    <tr>\n",
       "      <th>s3</th>\n",
       "      <td>Movie</td>\n",
       "      <td>23:59</td>\n",
       "      <td>Gilbert Chan</td>\n",
       "      <td>Tedd Chan, Stella Chung, Henley Hii, Lawrence ...</td>\n",
       "      <td>Singapore</td>\n",
       "      <td>December 20, 2018</td>\n",
       "      <td>2011</td>\n",
       "      <td>R</td>\n",
       "      <td>78 min</td>\n",
       "      <td>Horror Movies, International Movies</td>\n",
       "      <td>When an army recruit is found dead, his fellow...</td>\n",
       "    </tr>\n",
       "    <tr>\n",
       "      <th>s4</th>\n",
       "      <td>Movie</td>\n",
       "      <td>9</td>\n",
       "      <td>Shane Acker</td>\n",
       "      <td>Elijah Wood, John C. Reilly, Jennifer Connelly...</td>\n",
       "      <td>United States</td>\n",
       "      <td>November 16, 2017</td>\n",
       "      <td>2009</td>\n",
       "      <td>PG-13</td>\n",
       "      <td>80 min</td>\n",
       "      <td>Action &amp; Adventure, Independent Movies, Sci-Fi...</td>\n",
       "      <td>In a postapocalyptic world, rag-doll robots hi...</td>\n",
       "    </tr>\n",
       "    <tr>\n",
       "      <th>s5</th>\n",
       "      <td>Movie</td>\n",
       "      <td>21</td>\n",
       "      <td>Robert Luketic</td>\n",
       "      <td>Jim Sturgess, Kevin Spacey, Kate Bosworth, Aar...</td>\n",
       "      <td>United States</td>\n",
       "      <td>January 1, 2020</td>\n",
       "      <td>2008</td>\n",
       "      <td>PG-13</td>\n",
       "      <td>123 min</td>\n",
       "      <td>Dramas</td>\n",
       "      <td>A brilliant group of students become card-coun...</td>\n",
       "    </tr>\n",
       "  </tbody>\n",
       "</table>\n",
       "</div>"
      ],
      "text/plain": [
       "            type  title           director  \\\n",
       "show_id                                      \n",
       "s1       TV Show     3%                NaN   \n",
       "s2         Movie   7:19  Jorge Michel Grau   \n",
       "s3         Movie  23:59       Gilbert Chan   \n",
       "s4         Movie      9        Shane Acker   \n",
       "s5         Movie     21     Robert Luketic   \n",
       "\n",
       "                                                      cast        country  \\\n",
       "show_id                                                                     \n",
       "s1       João Miguel, Bianca Comparato, Michel Gomes, R...         Brazil   \n",
       "s2       Demián Bichir, Héctor Bonilla, Oscar Serrano, ...         Mexico   \n",
       "s3       Tedd Chan, Stella Chung, Henley Hii, Lawrence ...      Singapore   \n",
       "s4       Elijah Wood, John C. Reilly, Jennifer Connelly...  United States   \n",
       "s5       Jim Sturgess, Kevin Spacey, Kate Bosworth, Aar...  United States   \n",
       "\n",
       "                date_added  release_year rating   duration  \\\n",
       "show_id                                                      \n",
       "s1         August 14, 2020          2020  TV-MA  4 Seasons   \n",
       "s2       December 23, 2016          2016  TV-MA     93 min   \n",
       "s3       December 20, 2018          2011      R     78 min   \n",
       "s4       November 16, 2017          2009  PG-13     80 min   \n",
       "s5         January 1, 2020          2008  PG-13    123 min   \n",
       "\n",
       "                                                 listed_in  \\\n",
       "show_id                                                      \n",
       "s1       International TV Shows, TV Dramas, TV Sci-Fi &...   \n",
       "s2                            Dramas, International Movies   \n",
       "s3                     Horror Movies, International Movies   \n",
       "s4       Action & Adventure, Independent Movies, Sci-Fi...   \n",
       "s5                                                  Dramas   \n",
       "\n",
       "                                               description  \n",
       "show_id                                                     \n",
       "s1       In a future where the elite inhabit an island ...  \n",
       "s2       After a devastating earthquake hits Mexico Cit...  \n",
       "s3       When an army recruit is found dead, his fellow...  \n",
       "s4       In a postapocalyptic world, rag-doll robots hi...  \n",
       "s5       A brilliant group of students become card-coun...  "
      ]
     },
     "execution_count": 161,
     "metadata": {},
     "output_type": "execute_result"
    }
   ],
   "source": [
    "#shows top 5 rows\n",
    "df.head()"
   ]
  },
  {
   "cell_type": "code",
   "execution_count": 162,
   "id": "1c423ed3-14e6-4aca-b671-04e1614b25d3",
   "metadata": {},
   "outputs": [
    {
     "data": {
      "text/plain": [
       "(7787, 11)"
      ]
     },
     "execution_count": 162,
     "metadata": {},
     "output_type": "execute_result"
    }
   ],
   "source": [
    "#shows the dataframe shape in this 7787(records) and 11(attributes)\n",
    "df.shape"
   ]
  },
  {
   "cell_type": "code",
   "execution_count": 163,
   "id": "78c4bcb3-18ea-42c0-9fc2-140d237e1931",
   "metadata": {},
   "outputs": [
    {
     "data": {
      "text/plain": [
       "type               2\n",
       "title           7787\n",
       "director        4049\n",
       "cast            6831\n",
       "country          681\n",
       "date_added      1565\n",
       "release_year      73\n",
       "rating            14\n",
       "duration         216\n",
       "listed_in        492\n",
       "description     7769\n",
       "dtype: int64"
      ]
     },
     "execution_count": 163,
     "metadata": {},
     "output_type": "execute_result"
    }
   ],
   "source": [
    "# unique values in each column\n",
    "df.nunique()"
   ]
  },
  {
   "cell_type": "code",
   "execution_count": 164,
   "id": "164fc696-4914-4cf0-ac35-feead9a521ab",
   "metadata": {},
   "outputs": [
    {
     "data": {
      "text/plain": [
       "False    7787\n",
       "Name: count, dtype: int64"
      ]
     },
     "execution_count": 164,
     "metadata": {},
     "output_type": "execute_result"
    }
   ],
   "source": [
    "# Checking for duplicate records\n",
    "df.duplicated().value_counts()"
   ]
  },
  {
   "cell_type": "code",
   "execution_count": 165,
   "id": "0d5dc90b-bb52-40d9-b19f-01e87c04bebd",
   "metadata": {},
   "outputs": [
    {
     "data": {
      "text/plain": [
       "type               0\n",
       "title              0\n",
       "director        2389\n",
       "cast             718\n",
       "country          507\n",
       "date_added        10\n",
       "release_year       0\n",
       "rating             7\n",
       "duration           0\n",
       "listed_in          0\n",
       "description        0\n",
       "dtype: int64"
      ]
     },
     "execution_count": 165,
     "metadata": {},
     "output_type": "execute_result"
    }
   ],
   "source": [
    "#checking for missing values\n",
    "df.isnull().sum()"
   ]
  },
  {
   "cell_type": "code",
   "execution_count": 166,
   "id": "6104a58f-ec67-4c41-acaa-eb22259475cc",
   "metadata": {},
   "outputs": [],
   "source": [
    "# Handling the missing values\n",
    "df[['director','cast','country']] = df[['director','cast','country']].fillna('Unknown')\n",
    "df['rating'] = df['rating'].fillna(df['rating'].mode()[0])\n",
    "df.dropna(axis=0, inplace = True)"
   ]
  },
  {
   "cell_type": "code",
   "execution_count": 167,
   "id": "2057d4cf-e001-4ff9-8f8e-bff5bbc20e8a",
   "metadata": {},
   "outputs": [
    {
     "data": {
      "text/plain": [
       "(7777, 11)"
      ]
     },
     "execution_count": 167,
     "metadata": {},
     "output_type": "execute_result"
    }
   ],
   "source": [
    "df.shape"
   ]
  },
  {
   "cell_type": "code",
   "execution_count": 168,
   "id": "0963b4c8-e38b-491e-b7b1-f228340fb36a",
   "metadata": {},
   "outputs": [
    {
     "data": {
      "text/plain": [
       "country\n",
       "United States                                                   2549\n",
       "India                                                            923\n",
       "Unknown                                                          506\n",
       "United Kingdom                                                   396\n",
       "Japan                                                            225\n",
       "                                                                ... \n",
       "Russia, United States, China                                       1\n",
       "Italy, Switzerland, France, Germany                                1\n",
       "United States, United Kingdom, Canada                              1\n",
       "United States, United Kingdom, Japan                               1\n",
       "Sweden, Czech Republic, United Kingdom, Denmark, Netherlands       1\n",
       "Name: count, Length: 682, dtype: int64"
      ]
     },
     "execution_count": 168,
     "metadata": {},
     "output_type": "execute_result"
    }
   ],
   "source": [
    "# Top countries\n",
    "df.country.value_counts()"
   ]
  },
  {
   "cell_type": "code",
   "execution_count": 169,
   "id": "bff5f633-b673-44c8-83dd-f63188d958d8",
   "metadata": {},
   "outputs": [
    {
     "data": {
      "text/plain": [
       "listed_in\n",
       "Documentaries                                                                      334\n",
       "Stand-Up Comedy                                                                    321\n",
       "Dramas, International Movies                                                       320\n",
       "Comedies, Dramas, International Movies                                             243\n",
       "Dramas, Independent Movies, International Movies                                   215\n",
       "                                                                                  ... \n",
       "Anime Series, Crime TV Shows, TV Thrillers                                           1\n",
       "Crime TV Shows, Romantic TV Shows, Spanish-Language TV Shows                         1\n",
       "Crime TV Shows, International TV Shows, Reality TV                                   1\n",
       "International Movies, Romantic Movies, Sci-Fi & Fantasy                              1\n",
       "International TV Shows, Spanish-Language TV Shows, Stand-Up Comedy & Talk Shows      1\n",
       "Name: count, Length: 491, dtype: int64"
      ]
     },
     "execution_count": 169,
     "metadata": {},
     "output_type": "execute_result"
    }
   ],
   "source": [
    "# Genre of shows\n",
    "df.listed_in.value_counts()"
   ]
  },
  {
   "cell_type": "markdown",
   "id": "e5e4ca62-2d97-434c-aed6-d876a235c469",
   "metadata": {},
   "source": [
    "- There are some movies / TV shows that were filmed in multiple countries, have multiple genres associated with it.\n",
    "- To simplify the analysis, let's consider only the primary country where that respective movie / TV show was filmed.\n",
    "- Also, let's consider only the primary genre of the respective movie / TV show."
   ]
  },
  {
   "cell_type": "code",
   "execution_count": 170,
   "id": "262af8f6-17c7-4b15-b7fb-8fab090d61d0",
   "metadata": {},
   "outputs": [],
   "source": [
    "# Choosing the primary country and primary genre to simplify the analysis\n",
    "df['country'] = df['country'].apply(lambda x: x.split(',')[0])\n",
    "df['listed_in'] = df['listed_in'].apply(lambda x: x.split(',')[0])"
   ]
  },
  {
   "cell_type": "code",
   "execution_count": 171,
   "id": "df28f5bb-341c-4ec2-b1cc-6d340a3b196d",
   "metadata": {},
   "outputs": [
    {
     "data": {
      "text/plain": [
       "country\n",
       "United States     2877\n",
       "India              956\n",
       "United Kingdom     576\n",
       "Unknown            506\n",
       "Canada             259\n",
       "                  ... \n",
       "Zimbabwe             1\n",
       "Namibia              1\n",
       "Soviet Union         1\n",
       "Iran                 1\n",
       "Somalia              1\n",
       "Name: count, Length: 82, dtype: int64"
      ]
     },
     "execution_count": 171,
     "metadata": {},
     "output_type": "execute_result"
    }
   ],
   "source": [
    "# contry in which a movie was produced\n",
    "df.country.value_counts()"
   ]
  },
  {
   "cell_type": "code",
   "execution_count": 172,
   "id": "77aff2e9-663f-4ac7-8cfa-0da98f5cb26a",
   "metadata": {},
   "outputs": [
    {
     "data": {
      "text/plain": [
       "listed_in\n",
       "Dramas                          1384\n",
       "Comedies                        1074\n",
       "Documentaries                    751\n",
       "Action & Adventure               721\n",
       "International TV Shows           689\n",
       "Children & Family Movies         502\n",
       "Crime TV Shows                   369\n",
       "Kids' TV                         357\n",
       "Stand-Up Comedy                  321\n",
       "Horror Movies                    244\n",
       "British TV Shows                 231\n",
       "Docuseries                       193\n",
       "Anime Series                     147\n",
       "International Movies             114\n",
       "TV Comedies                      109\n",
       "Reality TV                       102\n",
       "Classic Movies                    77\n",
       "TV Dramas                         62\n",
       "Movies                            56\n",
       "Thrillers                         49\n",
       "TV Action & Adventure             36\n",
       "Stand-Up Comedy & Talk Shows      33\n",
       "Romantic TV Shows                 28\n",
       "Independent Movies                20\n",
       "Anime Features                    19\n",
       "Classic & Cult TV                 19\n",
       "Music & Musicals                  17\n",
       "TV Shows                          12\n",
       "Cult Movies                       12\n",
       "Sci-Fi & Fantasy                  11\n",
       "TV Horror                         10\n",
       "Romantic Movies                    3\n",
       "Spanish-Language TV Shows          2\n",
       "Sports Movies                      1\n",
       "TV Sci-Fi & Fantasy                1\n",
       "LGBTQ Movies                       1\n",
       "Name: count, dtype: int64"
      ]
     },
     "execution_count": 172,
     "metadata": {},
     "output_type": "execute_result"
    }
   ],
   "source": [
    "# genre of shows\n",
    "df.listed_in.value_counts()"
   ]
  },
  {
   "cell_type": "markdown",
   "id": "e31e3843-d97a-484d-9da4-4d0a2f96b3c6",
   "metadata": {},
   "source": [
    "# Typecasting 'duration' from string to integer"
   ]
  },
  {
   "cell_type": "code",
   "execution_count": 173,
   "id": "70805bdb-421d-44f1-b1ef-f8ae634adf36",
   "metadata": {},
   "outputs": [],
   "source": [
    "# Splitting the duration column, and changing the datatype to integer\n",
    "df['duration'] = df['duration'].apply(lambda x: int(x.split()[0]))"
   ]
  },
  {
   "cell_type": "code",
   "execution_count": 174,
   "id": "17f3ecff-b6c2-4e07-b35a-f98d7f1ca158",
   "metadata": {},
   "outputs": [
    {
     "data": {
      "text/plain": [
       "duration\n",
       "1     1608\n",
       "2      378\n",
       "3      183\n",
       "4       86\n",
       "5       57\n",
       "6       30\n",
       "7       19\n",
       "8       18\n",
       "9        8\n",
       "10       5\n",
       "11       2\n",
       "12       2\n",
       "15       2\n",
       "13       1\n",
       "16       1\n",
       "Name: count, dtype: int64"
      ]
     },
     "execution_count": 174,
     "metadata": {},
     "output_type": "execute_result"
    }
   ],
   "source": [
    "# Number of seasons for tv shows\n",
    "df[df['type']=='TV Show'].duration.value_counts()"
   ]
  },
  {
   "cell_type": "code",
   "execution_count": 175,
   "id": "73b362cd-c029-4ba4-b409-6d72eadd4b1f",
   "metadata": {},
   "outputs": [
    {
     "data": {
      "text/plain": [
       "array([ 93,  78,  80, 123,  95, 119, 118, 143, 103,  89,  91, 149, 144,\n",
       "       124,  87, 110, 128, 117, 100,  84,  99,  90, 102, 104, 105,  56,\n",
       "       125,  81,  97, 106, 107, 109,  44,  75, 101,  37, 113, 114, 130,\n",
       "        94, 140, 135,  82,  70, 121,  92, 164,  53,  83, 116,  86, 120,\n",
       "        96, 126, 129,  77, 137, 148,  28, 122, 176,  85,  22,  68, 111,\n",
       "        29, 142, 168,  21,  59,  20,  98, 108,  76,  26, 156,  30,  57,\n",
       "       150, 133, 115, 154, 127, 146, 136,  88, 131,  24, 112,  74,  63,\n",
       "        38,  25, 174,  60, 153, 158, 151, 162,  54,  51,  69,  64, 147,\n",
       "        42,  79,  40,  45, 172,  10, 163,  55,  72,  61,  71, 160, 171,\n",
       "        48, 139, 157,  15,  65, 134, 161,  62, 186,  49,  73,  58, 165,\n",
       "       166, 138, 159, 141, 132,  52,  67,  34,  66, 312, 180,  47, 155,\n",
       "        14, 177,  11,   9,  46, 145,   8,  12,  43,  50,  23, 185, 200,\n",
       "       169,  27, 170, 196,  33, 181, 204,  32,  35, 167, 179, 193,  13,\n",
       "       214,  17, 173, 192, 209, 187,  41, 182, 224, 233, 189, 152,  19,\n",
       "       208, 237,  31, 178, 230, 194, 228, 195,   3,  16,   5,  18, 205,\n",
       "       190,  36, 201, 253, 203, 191], dtype=int64)"
      ]
     },
     "execution_count": 175,
     "metadata": {},
     "output_type": "execute_result"
    }
   ],
   "source": [
    "# Movie length in minutes\n",
    "df[df['type']=='Movie'].duration.unique()"
   ]
  },
  {
   "cell_type": "code",
   "execution_count": 176,
   "id": "9a304b03-8295-4dbc-8f29-399dda6d24ad",
   "metadata": {},
   "outputs": [
    {
     "data": {
      "text/plain": [
       "dtype('int64')"
      ]
     },
     "execution_count": 176,
     "metadata": {},
     "output_type": "execute_result"
    }
   ],
   "source": [
    "# datatype of duration\n",
    "df.duration.dtype"
   ]
  },
  {
   "cell_type": "markdown",
   "id": "4bb350d3-1afb-40c9-87c1-d373ec2716ad",
   "metadata": {},
   "source": [
    "# Typecasting 'date_added' from string to datetime:"
   ]
  },
  {
   "cell_type": "code",
   "execution_count": 177,
   "id": "f213d227-3390-435d-a173-c20de87a5dfd",
   "metadata": {},
   "outputs": [],
   "source": [
    "# Typecasting 'date_added' from string to datetime\n",
    "df[\"date_added\"] = pd.to_datetime(df[\"date_added\"].str.strip(), format=\"%B %d, %Y\")\n"
   ]
  },
  {
   "cell_type": "code",
   "execution_count": 178,
   "id": "c442b098-ff92-41e3-b6fd-0e8fba900116",
   "metadata": {},
   "outputs": [
    {
     "data": {
      "text/plain": [
       "(Timestamp('2008-01-01 00:00:00'), Timestamp('2021-01-16 00:00:00'))"
      ]
     },
     "execution_count": 178,
     "metadata": {},
     "output_type": "execute_result"
    }
   ],
   "source": [
    "# first and last date on which a show was added on Netflix\n",
    "df.date_added.min(),df.date_added.max()"
   ]
  },
  {
   "cell_type": "code",
   "execution_count": 179,
   "id": "30ee1ddd-3792-4147-8810-bba4037803ca",
   "metadata": {},
   "outputs": [],
   "source": [
    "# Adding new attributes month and year of date added\n",
    "\n",
    "df['month_added'] = df['date_added'].dt.month\n",
    "df['year_added'] = df['date_added'].dt.year\n",
    "df.drop('date_added', axis=1, inplace=True)"
   ]
  },
  {
   "cell_type": "markdown",
   "id": "d12a937d-26dd-4282-bff1-c6c038be93fa",
   "metadata": {},
   "source": [
    "# Rating:"
   ]
  },
  {
   "cell_type": "code",
   "execution_count": 180,
   "id": "8f2bed5e-3bcf-4b1d-bf34-4d91d2e1d16d",
   "metadata": {},
   "outputs": [
    {
     "data": {
      "image/png": "[encoded data removed]",
      "text/plain": [
       "<Figure size 1000x500 with 1 Axes>"
      ]
     },
     "metadata": {},
     "output_type": "display_data"
    }
   ],
   "source": [
    "# Age ratings for shows in the dataset\n",
    "plt.figure(figsize=(10,5))\n",
    "sns.countplot(x='rating',data=df)\n",
    "plt.show()"
   ]
  },
  {
   "cell_type": "code",
   "execution_count": 181,
   "id": "b32bea6a-a5a7-437c-9aec-28e1ab2b24e0",
   "metadata": {},
   "outputs": [
    {
     "data": {
      "text/plain": [
       "array(['TV-MA', 'R', 'PG-13', 'TV-14', 'TV-PG', 'NR', 'TV-G', 'TV-Y',\n",
       "       'TV-Y7', 'PG', 'G', 'NC-17', 'TV-Y7-FV', 'UR'], dtype=object)"
      ]
     },
     "execution_count": 181,
     "metadata": {},
     "output_type": "execute_result"
    }
   ],
   "source": [
    "# Age ratings\n",
    "df.rating.unique()"
   ]
  },
  {
   "cell_type": "code",
   "execution_count": 182,
   "id": "c1e9fc3a-2082-473a-8ff7-6c0d55273f3e",
   "metadata": {},
   "outputs": [
    {
     "data": {
      "text/plain": [
       "array(['Adults', 'Teens', 'Young Adults', 'Older Kids', 'Kids'],\n",
       "      dtype=object)"
      ]
     },
     "execution_count": 182,
     "metadata": {},
     "output_type": "execute_result"
    }
   ],
   "source": [
    "# Changing the values in the rating column\n",
    "rating_map = {'TV-MA':'Adults',\n",
    "              'R':'Adults',\n",
    "              'PG-13':'Teens',\n",
    "              'TV-14':'Young Adults',\n",
    "              'TV-PG':'Older Kids',\n",
    "              'NR':'Adults',\n",
    "              'TV-G':'Kids',\n",
    "              'TV-Y':'Kids',\n",
    "              'TV-Y7':'Older Kids',\n",
    "              'PG':'Older Kids',\n",
    "               'G':'Kids',\n",
    "              'NC-17':'Adults',\n",
    "              'TV-Y7-FV':'Older Kids',\n",
    "              'UR':'Adults'}\n",
    "\n",
    "df['rating'].replace(rating_map, inplace = True)\n",
    "df['rating'].unique()"
   ]
  },
  {
   "cell_type": "code",
   "execution_count": 183,
   "id": "7384abd0-1c0c-4f55-af17-c470ef875b7d",
   "metadata": {},
   "outputs": [
    {
     "data": {
      "image/png": "[encoded data removed]",
      "text/plain": [
       "<Figure size 1000x500 with 1 Axes>"
      ]
     },
     "metadata": {},
     "output_type": "display_data"
    }
   ],
   "source": [
    "# Age ratings for shows in the dataset\n",
    "plt.figure(figsize=(10,5))\n",
    "sns.countplot(x='rating',data=df)\n",
    "plt.show()"
   ]
  },
  {
   "cell_type": "markdown",
   "id": "3edd827c-f572-4db1-b89a-b867277d5ce4",
   "metadata": {},
   "source": [
    "# Exploratory Data Analysis:"
   ]
  },
  {
   "cell_type": "code",
   "execution_count": 184,
   "id": "9a38b8b4-0339-4a0e-8c14-662363ff3a77",
   "metadata": {},
   "outputs": [
    {
     "data": {
      "image/png": "[encoded data removed]",
      "text/plain": [
       "<Figure size 700x700 with 1 Axes>"
      ]
     },
     "metadata": {},
     "output_type": "display_data"
    }
   ],
   "source": [
    "# Number of Movies and TV Shows in the dataset\n",
    "plt.figure(figsize=(7,7))\n",
    "df.type.value_counts().plot(kind='pie',autopct='%1.2f%%')\n",
    "plt.ylabel('')\n",
    "plt.title('Movies and TV Shows in the dataset')\n",
    "plt.show()"
   ]
  },
  {
   "cell_type": "code",
   "execution_count": 185,
   "id": "30a12e49-f89b-49de-bcff-787aa3ff80e5",
   "metadata": {},
   "outputs": [
    {
     "data": {
      "image/png": "[encoded data removed]",
      "text/plain": [
       "<Figure size 1000x500 with 1 Axes>"
      ]
     },
     "metadata": {},
     "output_type": "display_data"
    }
   ],
   "source": [
    "# Top 10 directors in the dataset\n",
    "plt.figure(figsize=(10,5))\n",
    "df[~(df['director']=='Unknown')].director.value_counts().nlargest(10).plot(kind='barh')\n",
    "plt.title('Top 10 directors by number of shows directed')\n",
    "plt.show()"
   ]
  },
  {
   "cell_type": "code",
   "execution_count": 186,
   "id": "711d0539-e462-449a-9537-3c9aa1ad4dd7",
   "metadata": {},
   "outputs": [
    {
     "data": {
      "image/png": "[encoded data removed]",
      "text/plain": [
       "<Figure size 1000x500 with 1 Axes>"
      ]
     },
     "metadata": {},
     "output_type": "display_data"
    }
   ],
   "source": [
    "# Top 10 countries with the highest number movies / TV shows in the dataset\n",
    "plt.figure(figsize=(10,5))\n",
    "df[~(df['country']=='Unknown')].country.value_counts().nlargest(10).plot(kind='barh')\n",
    "plt.title(' Top 10 countries with the highest number of shows')\n",
    "plt.show()"
   ]
  },
  {
   "cell_type": "code",
   "execution_count": 187,
   "id": "a1af6cde-fd2a-46ac-acda-d1e17fb594ca",
   "metadata": {},
   "outputs": [
    {
     "data": {
      "text/plain": [
       "56.69281213835669"
      ]
     },
     "execution_count": 187,
     "metadata": {},
     "output_type": "execute_result"
    }
   ],
   "source": [
    "# % share of movies / tv shows by top 3 countries\n",
    "df.country.value_counts().nlargest(3).sum()/len(df)*100"
   ]
  },
  {
   "cell_type": "code",
   "execution_count": 188,
   "id": "5ecc1903-c6e1-4a84-81c6-49b9ea6162f2",
   "metadata": {},
   "outputs": [
    {
     "data": {
      "text/plain": [
       "78.32068921177832"
      ]
     },
     "execution_count": 188,
     "metadata": {},
     "output_type": "execute_result"
    }
   ],
   "source": [
    "# % share of movies / tv shows by top 10 countries\n",
    "df.country.value_counts().nlargest(10).sum()/len(df)*100"
   ]
  },
  {
   "cell_type": "code",
   "execution_count": 189,
   "id": "0f81b293-7109-4c60-91cd-b3c5ab3f0238",
   "metadata": {},
   "outputs": [
    {
     "data": {
      "image/png": "[encoded data removed]",
      "text/plain": [
       "<Figure size 1000x500 with 1 Axes>"
      ]
     },
     "metadata": {},
     "output_type": "display_data"
    }
   ],
   "source": [
    "# Visualizing the year in which the movie / tv show was released\n",
    "plt.figure(figsize=(10,5))\n",
    "sns.histplot(df['release_year'])\n",
    "plt.title('distribution by released year')\n",
    "plt.show()"
   ]
  },
  {
   "cell_type": "code",
   "execution_count": 190,
   "id": "0cb03501-66a9-4f73-bc23-5a2b6eb16cda",
   "metadata": {},
   "outputs": [
    {
     "data": {
      "image/png": "[encoded data removed]",
      "text/plain": [
       "<Figure size 1000x500 with 1 Axes>"
      ]
     },
     "metadata": {},
     "output_type": "display_data"
    }
   ],
   "source": [
    "# Top 10 genres \n",
    "plt.figure(figsize=(10,5))\n",
    "df.listed_in.value_counts().nlargest(10).plot(kind='barh')\n",
    "plt.title('Top 10 genres')\n",
    "plt.show()"
   ]
  },
  {
   "cell_type": "code",
   "execution_count": 191,
   "id": "6bc482ed-6347-4934-a50c-c2929862b2e7",
   "metadata": {},
   "outputs": [
    {
     "data": {
      "text/plain": [
       "41.26269769834126"
      ]
     },
     "execution_count": 191,
     "metadata": {},
     "output_type": "execute_result"
    }
   ],
   "source": [
    "# Share of top 3 genres\n",
    "df.listed_in.value_counts().nlargest(3).sum()/len(df)*100"
   ]
  },
  {
   "cell_type": "code",
   "execution_count": 192,
   "id": "d25856d2-9681-4822-8183-e8bbe6295cdd",
   "metadata": {},
   "outputs": [
    {
     "data": {
      "text/plain": [
       "82.44824482448246"
      ]
     },
     "execution_count": 192,
     "metadata": {},
     "output_type": "execute_result"
    }
   ],
   "source": [
    "# Share of top 10 genres\n",
    "df.listed_in.value_counts().nlargest(10).sum()/len(df)*100"
   ]
  },
  {
   "cell_type": "markdown",
   "id": "aeaccdf8-ec0e-44f9-bdd4-744b3ad33cb1",
   "metadata": {},
   "source": [
    "# Data preprocessing:"
   ]
  },
  {
   "cell_type": "code",
   "execution_count": 193,
   "id": "88fdb943-7406-4b66-9725-ec4116b5ed4c",
   "metadata": {},
   "outputs": [],
   "source": [
    "# Using the original dataset for clustering since\n",
    "# it does not require handling missing values\n",
    "df1 = original_df.copy()"
   ]
  },
  {
   "cell_type": "code",
   "execution_count": 194,
   "id": "2394681f-6147-4a93-ba68-d07053a1a685",
   "metadata": {},
   "outputs": [],
   "source": [
    "df1.fillna('',inplace=True)"
   ]
  },
  {
   "cell_type": "code",
   "execution_count": 195,
   "id": "d441fae6-cc09-44da-83bc-11a1d41912bc",
   "metadata": {},
   "outputs": [],
   "source": [
    "# Combining all the clustering attributes into a single column\n",
    "\n",
    "df1['clustering_attributes'] = (df1['director'] + ' ' + \n",
    "                                df1['cast'] +' ' + \n",
    "                                df1['country'] +' ' + \n",
    "                                df1['listed_in'] +' ' + \n",
    "                                df1['description'])"
   ]
  },
  {
   "cell_type": "code",
   "execution_count": 196,
   "id": "9befb24e-4e43-4fa8-9619-56f15c6bcf35",
   "metadata": {},
   "outputs": [
    {
     "data": {
      "text/plain": [
       "'Muharrem Gülmez Erdem Yener, Ayhan Taş, Emin Olcay, Muharrem Gülmez, Elif Nur Kerkük, Tarık Papuççuoğlu, Suzan Aksoy, Doğa Konakoğlu, Esin Eden, Deniz Özerman Turkey Comedies, International Movies The slacker owner of a public bath house rallies his community to save it when a big developer comes to town to close it down and open a new mall.'"
      ]
     },
     "execution_count": 196,
     "metadata": {},
     "output_type": "execute_result"
    }
   ],
   "source": [
    "df1['clustering_attributes'][40]"
   ]
  },
  {
   "cell_type": "code",
   "execution_count": 197,
   "id": "55d0516b-c1a7-4e0a-8d89-7233d467df2b",
   "metadata": {},
   "outputs": [],
   "source": [
    "# function to remove non-ascii characters\n",
    "\n",
    "def remove_non_ascii(words):\n",
    "    \"\"\"Function to remove non-ASCII characters\"\"\"\n",
    "    new_words = []\n",
    "    for word in words:\n",
    "        new_word = unicodedata.normalize('NFKD', word).encode('ascii', 'ignore').decode('utf-8', 'ignore')\n",
    "        new_words.append(new_word)\n",
    "    return new_words"
   ]
  },
  {
   "cell_type": "code",
   "execution_count": 198,
   "id": "245e634c-2acb-40fc-a232-079f6b568b99",
   "metadata": {},
   "outputs": [],
   "source": [
    "# remove non-ascii characters\n",
    "df1['clustering_attributes'] = remove_non_ascii(df1['clustering_attributes'])"
   ]
  },
  {
   "cell_type": "code",
   "execution_count": 199,
   "id": "c5b6fcea-3945-46b1-ae08-9b1731abc34e",
   "metadata": {},
   "outputs": [
    {
     "data": {
      "text/plain": [
       "'Muharrem Gulmez Erdem Yener, Ayhan Tas, Emin Olcay, Muharrem Gulmez, Elif Nur Kerkuk, Tark Papuccuoglu, Suzan Aksoy, Doga Konakoglu, Esin Eden, Deniz Ozerman Turkey Comedies, International Movies The slacker owner of a public bath house rallies his community to save it when a big developer comes to town to close it down and open a new mall.'"
      ]
     },
     "execution_count": 199,
     "metadata": {},
     "output_type": "execute_result"
    }
   ],
   "source": [
    "df1['clustering_attributes'][40]"
   ]
  },
  {
   "cell_type": "markdown",
   "id": "f31d17d6-4303-49b7-be08-8e604407a6a5",
   "metadata": {},
   "source": [
    "# Remove stopwords and lower case:"
   ]
  },
  {
   "cell_type": "code",
   "execution_count": 200,
   "id": "9452abe7-425b-4b90-939a-d67c4e20565b",
   "metadata": {},
   "outputs": [
    {
     "data": {
      "text/plain": [
       "array(['a', 'about', 'above', 'after', 'again', 'against', 'ain', 'all',\n",
       "       'am', 'an', 'and', 'any', 'are', 'aren', \"aren't\", 'as', 'at',\n",
       "       'be', 'because', 'been', 'before', 'being', 'below', 'between',\n",
       "       'both', 'but', 'by', 'can', 'couldn', \"couldn't\", 'd', 'did',\n",
       "       'didn', \"didn't\", 'do', 'does', 'doesn', \"doesn't\", 'doing', 'don',\n",
       "       \"don't\", 'down', 'during', 'each', 'few', 'for', 'from', 'further',\n",
       "       'had', 'hadn', \"hadn't\", 'has', 'hasn', \"hasn't\", 'have', 'haven',\n",
       "       \"haven't\", 'having', 'he', \"he'd\", \"he'll\", 'her', 'here', 'hers',\n",
       "       'herself', \"he's\", 'him', 'himself', 'his', 'how', 'i', \"i'd\",\n",
       "       'if', \"i'll\", \"i'm\", 'in', 'into', 'is', 'isn', \"isn't\", 'it',\n",
       "       \"it'd\", \"it'll\", \"it's\", 'its', 'itself', \"i've\", 'just', 'll',\n",
       "       'm', 'ma', 'me', 'mightn', \"mightn't\", 'more', 'most', 'mustn',\n",
       "       \"mustn't\", 'my', 'myself', 'needn', \"needn't\", 'no', 'nor', 'not',\n",
       "       'now', 'o', 'of', 'off', 'on', 'once', 'only', 'or', 'other',\n",
       "       'our', 'ours', 'ourselves', 'out', 'over', 'own', 're', 's',\n",
       "       'same', 'shan', \"shan't\", 'she', \"she'd\", \"she'll\", \"she's\",\n",
       "       'should', 'shouldn', \"shouldn't\", \"should've\", 'so', 'some',\n",
       "       'such', 't', 'than', 'that', \"that'll\", 'the', 'their', 'theirs',\n",
       "       'them', 'themselves', 'then', 'there', 'these', 'they', \"they'd\",\n",
       "       \"they'll\", \"they're\", \"they've\", 'this', 'those', 'through', 'to',\n",
       "       'too', 'under', 'until', 'up', 've', 'very', 'was', 'wasn',\n",
       "       \"wasn't\", 'we', \"we'd\", \"we'll\", \"we're\", 'were', 'weren',\n",
       "       \"weren't\", \"we've\", 'what', 'when', 'where', 'which', 'while',\n",
       "       'who', 'whom', 'why', 'will', 'with', 'won', \"won't\", 'wouldn',\n",
       "       \"wouldn't\", 'y', 'you', \"you'd\", \"you'll\", 'your', \"you're\",\n",
       "       'yours', 'yourself', 'yourselves', \"you've\"], dtype='<U10')"
      ]
     },
     "execution_count": 200,
     "metadata": {},
     "output_type": "execute_result"
    }
   ],
   "source": [
    "# extracting the stopwords from nltk library\n",
    "import nltk\n",
    "from nltk.corpus import stopwords\n",
    "sw = stopwords.words('english')\n",
    "# displaying the stopwords\n",
    "np.array(sw)"
   ]
  },
  {
   "cell_type": "code",
   "execution_count": 201,
   "id": "b1f8e34a-d63d-4cf8-84d2-f311ad188412",
   "metadata": {},
   "outputs": [],
   "source": [
    "# function to remove stop words\n",
    "def stopwords(text):\n",
    "    '''a function for removing the stopword'''\n",
    "    # removing the stop words and lowercasing the selected words\n",
    "    text = [word.lower() for word in text.split() if word.lower() not in sw]\n",
    "    # joining the list of words with space separator\n",
    "    return \" \".join(text)"
   ]
  },
  {
   "cell_type": "code",
   "execution_count": 202,
   "id": "f2cbcf9a-a131-420c-986e-d69cdbdf0449",
   "metadata": {},
   "outputs": [],
   "source": [
    "# Removing stop words\n",
    "df1['clustering_attributes'] = df1['clustering_attributes'].apply(stopwords)"
   ]
  },
  {
   "cell_type": "code",
   "execution_count": 203,
   "id": "1f2d1cb6-418d-4157-884c-1480cc179db2",
   "metadata": {},
   "outputs": [
    {
     "data": {
      "text/plain": [
       "'muharrem gulmez erdem yener, ayhan tas, emin olcay, muharrem gulmez, elif nur kerkuk, tark papuccuoglu, suzan aksoy, doga konakoglu, esin eden, deniz ozerman turkey comedies, international movies slacker owner public bath house rallies community save big developer comes town close open new mall.'"
      ]
     },
     "execution_count": 203,
     "metadata": {},
     "output_type": "execute_result"
    }
   ],
   "source": [
    "df1['clustering_attributes'][40]"
   ]
  },
  {
   "cell_type": "markdown",
   "id": "e524ceb5-66c7-43ce-80a9-9c5961fbf22f",
   "metadata": {},
   "source": [
    "# Remove punctuations"
   ]
  },
  {
   "cell_type": "code",
   "execution_count": 204,
   "id": "505a89e1-ffe5-430e-9d67-9d6af37371ae",
   "metadata": {},
   "outputs": [],
   "source": [
    "# function to remove punctuations\n",
    "def remove_punctuation(text):\n",
    "    '''a function for removing punctuation'''\n",
    "    translator = str.maketrans('', '', string.punctuation)\n",
    "    # return the text stripped of punctuation marks\n",
    "    return text.translate(translator)"
   ]
  },
  {
   "cell_type": "code",
   "execution_count": 205,
   "id": "93879d21-f111-495b-afef-fb521c086ccb",
   "metadata": {},
   "outputs": [],
   "source": [
    "# Removing punctuation marks\n",
    "df1['clustering_attributes'] = df1['clustering_attributes'].apply(remove_punctuation)"
   ]
  },
  {
   "cell_type": "code",
   "execution_count": 206,
   "id": "f9de5e43-aa97-4164-ab21-b30e47e3d04f",
   "metadata": {},
   "outputs": [
    {
     "data": {
      "text/plain": [
       "'muharrem gulmez erdem yener ayhan tas emin olcay muharrem gulmez elif nur kerkuk tark papuccuoglu suzan aksoy doga konakoglu esin eden deniz ozerman turkey comedies international movies slacker owner public bath house rallies community save big developer comes town close open new mall'"
      ]
     },
     "execution_count": 206,
     "metadata": {},
     "output_type": "execute_result"
    }
   ],
   "source": [
    "df1['clustering_attributes'][40]"
   ]
  },
  {
   "cell_type": "markdown",
   "id": "a2fa8726-75c8-4bdf-8ce3-f5f0f9b09233",
   "metadata": {},
   "source": [
    "# Lemmatization:"
   ]
  },
  {
   "cell_type": "code",
   "execution_count": 207,
   "id": "475bfa7a-4285-4e02-8352-22331ee815bc",
   "metadata": {},
   "outputs": [],
   "source": [
    "# function to lemmatize the corpus\n",
    "def lemmatize_verbs(words):\n",
    "    \"\"\"Lemmatize verbs in list of tokenized words\"\"\"\n",
    "    lemmatizer = WordNetLemmatizer()\n",
    "    lemmas = []\n",
    "    for word in words:\n",
    "        lemma = lemmatizer.lemmatize(word, pos='v')\n",
    "        lemmas.append(lemma)\n",
    "    return lemmas"
   ]
  },
  {
   "cell_type": "code",
   "execution_count": 208,
   "id": "ae80ff21-3704-4e46-8d22-52238e335d7f",
   "metadata": {},
   "outputs": [],
   "source": [
    "# Lemmatization\n",
    "df1['clustering_attributes'] = lemmatize_verbs(df1['clustering_attributes'])"
   ]
  },
  {
   "cell_type": "code",
   "execution_count": 209,
   "id": "4ff82ef1-9caf-4252-ba13-8842b53bf17a",
   "metadata": {},
   "outputs": [
    {
     "data": {
      "text/plain": [
       "'muharrem gulmez erdem yener ayhan tas emin olcay muharrem gulmez elif nur kerkuk tark papuccuoglu suzan aksoy doga konakoglu esin eden deniz ozerman turkey comedies international movies slacker owner public bath house rallies community save big developer comes town close open new mall'"
      ]
     },
     "execution_count": 209,
     "metadata": {},
     "output_type": "execute_result"
    }
   ],
   "source": [
    "df1['clustering_attributes'][40]"
   ]
  },
  {
   "cell_type": "markdown",
   "id": "57a7021c-83c0-478c-882e-3afd589043a8",
   "metadata": {},
   "source": [
    "# Tokenization:"
   ]
  },
  {
   "cell_type": "code",
   "execution_count": 210,
   "id": "cddf976b-a93d-4c9a-92e2-7023b9e50330",
   "metadata": {},
   "outputs": [],
   "source": [
    "tokenizer = TweetTokenizer()"
   ]
  },
  {
   "cell_type": "code",
   "execution_count": 211,
   "id": "eef41d6c-94f4-4b8a-bfce-ee7d40a8c05f",
   "metadata": {},
   "outputs": [],
   "source": [
    "df1['clustering_attributes'] = df1['clustering_attributes'].apply(lambda x: tokenizer.tokenize(x))"
   ]
  },
  {
   "cell_type": "markdown",
   "id": "5a6c6ea3-9740-4eca-bda3-562b23e9a49f",
   "metadata": {},
   "source": [
    "# Vectorization:"
   ]
  },
  {
   "cell_type": "code",
   "execution_count": 212,
   "id": "4c3ba798-2515-45e3-b87f-844251512e70",
   "metadata": {},
   "outputs": [],
   "source": [
    "# clustering tokens saved in a variable\n",
    "clustering_data = df1['clustering_attributes']"
   ]
  },
  {
   "cell_type": "code",
   "execution_count": 213,
   "id": "fd16f894-5f65-4786-bb24-55fdb737d77d",
   "metadata": {},
   "outputs": [],
   "source": [
    "# Tokenization\n",
    "def identity_tokenizer(text):\n",
    "    return text\n",
    "\n",
    "# Using TFIDF vectorizer to vectorize the corpus \n",
    "# max features = 20000 to prevent system from crashing\n",
    "tfidf = TfidfVectorizer(tokenizer=identity_tokenizer, stop_words='english', lowercase=False,max_features = 20000)    \n",
    "X = tfidf.fit_transform(clustering_data)"
   ]
  },
  {
   "cell_type": "code",
   "execution_count": 214,
   "id": "6f9fcc3d-f228-485c-afcd-0dd50c45a466",
   "metadata": {},
   "outputs": [
    {
     "data": {
      "text/plain": [
       "<7787x20000 sparse matrix of type '<class 'numpy.float64'>'\n",
       "\twith 235079 stored elements in Compressed Sparse Row format>"
      ]
     },
     "execution_count": 214,
     "metadata": {},
     "output_type": "execute_result"
    }
   ],
   "source": [
    "X"
   ]
  },
  {
   "cell_type": "code",
   "execution_count": 215,
   "id": "56033f51-51a8-44a6-bd46-3618cfb2b652",
   "metadata": {},
   "outputs": [
    {
     "data": {
      "text/plain": [
       "(7787, 20000)"
      ]
     },
     "execution_count": 215,
     "metadata": {},
     "output_type": "execute_result"
    }
   ],
   "source": [
    "# Shape of X\n",
    "X.shape"
   ]
  },
  {
   "cell_type": "code",
   "execution_count": 216,
   "id": "4622df74-9ef3-4094-9f05-83285cf284bf",
   "metadata": {},
   "outputs": [
    {
     "data": {
      "text/plain": [
       "scipy.sparse._csr.csr_matrix"
      ]
     },
     "execution_count": 216,
     "metadata": {},
     "output_type": "execute_result"
    }
   ],
   "source": [
    "# data type of vector\n",
    "type(X)"
   ]
  },
  {
   "cell_type": "code",
   "execution_count": 217,
   "id": "8c8535bc-f97a-4737-a331-6c2f3269a494",
   "metadata": {},
   "outputs": [],
   "source": [
    "# convert X into array form for clustering\n",
    "X = X.toarray()"
   ]
  },
  {
   "cell_type": "markdown",
   "id": "07b719b6-9bc7-4be6-8979-47f0db63903d",
   "metadata": {},
   "source": [
    "# Dimensionality reduction using PCA:"
   ]
  },
  {
   "cell_type": "code",
   "execution_count": 218,
   "id": "910e4a2d-7682-491e-a878-1596aa1a35a6",
   "metadata": {},
   "outputs": [],
   "source": [
    "from sklearn.decomposition import PCA\n",
    "X_pca = PCA(n_components=10, random_state=42).fit_transform(X)\n",
    "\n",
    "kmeans = KMeans(n_clusters=3, init='k-means++', random_state=42)\n",
    "y_kmeans = kmeans.fit_predict(X_pca)"
   ]
  },
  {
   "cell_type": "markdown",
   "id": "1f037f0d-439a-4f98-bbbf-273c6d612825",
   "metadata": {},
   "source": [
    "# Clusters implementation:"
   ]
  },
  {
   "cell_type": "markdown",
   "id": "52537393-b269-4913-aef3-046862898deb",
   "metadata": {},
   "source": [
    "## K-Means Clustering:"
   ]
  },
  {
   "cell_type": "code",
   "execution_count": 219,
   "id": "e3e2ed37-e4a8-4a87-a8eb-220571d47dac",
   "metadata": {},
   "outputs": [
    {
     "name": "stdout",
     "output_type": "stream",
     "text": [
      "Shape of X: (7787, 20000)\n"
     ]
    }
   ],
   "source": [
    "# Import\n",
    "from sklearn.cluster import KMeans\n",
    "import matplotlib.pyplot as plt\n",
    "\n",
    "# Assume X is your numeric feature DataFrame (after cleaning/encoding)\n",
    "print(\"Shape of X:\", X.shape)"
   ]
  },
  {
   "cell_type": "code",
   "execution_count": 220,
   "id": "942e8109-acb3-42b4-8b05-29819c13e447",
   "metadata": {},
   "outputs": [
    {
     "data": {
      "image/png": "[encoded data removed]",
      "text/plain": [
       "<Figure size 800x500 with 1 Axes>"
      ]
     },
     "metadata": {},
     "output_type": "display_data"
    }
   ],
   "source": [
    "# 1. Elbow method to find optimal k\n",
    "wcss = []\n",
    "for i in range(1, 11):  # check cluster sizes from 1 to 10\n",
    "    kmeans = KMeans(n_clusters=i, init='k-means++', random_state=42)\n",
    "    kmeans.fit(X)\n",
    "    wcss.append(kmeans.inertia_)\n",
    "\n",
    "# Plot elbow curve\n",
    "plt.figure(figsize=(8,5))\n",
    "plt.plot(range(1, 11), wcss, marker='o')\n",
    "plt.title(\"The Elbow Method for K-Means\")\n",
    "plt.xlabel(\"Number of clusters (k)\")\n",
    "plt.ylabel(\"WCSS (Within Cluster Sum of Squares)\")\n",
    "plt.show()"
   ]
  },
  {
   "cell_type": "markdown",
   "id": "2550ecd3-9991-40b3-9cbd-ec2b41eefdbd",
   "metadata": {},
   "source": [
    "# Content based recommender system:"
   ]
  },
  {
   "cell_type": "code",
   "execution_count": 221,
   "id": "1e8edfe1-056d-4c9f-b89f-81d051cf765f",
   "metadata": {},
   "outputs": [],
   "source": [
    "# defining a new df for building a recommender system\n",
    "recommender_df = df1.copy()"
   ]
  },
  {
   "cell_type": "code",
   "execution_count": 222,
   "id": "913372d8-40b0-4b59-9d07-1007ad9edd98",
   "metadata": {},
   "outputs": [],
   "source": [
    "# Changing the index of the df from show id to show title\n",
    "recommender_df['show_id'] = recommender_df.index"
   ]
  },
  {
   "cell_type": "code",
   "execution_count": 223,
   "id": "c6d38d16-8129-43fd-98f3-7322553c91fc",
   "metadata": {},
   "outputs": [],
   "source": [
    "# converting tokens to string\n",
    "def convert(lst):\n",
    "  return ' '.join(lst)\n",
    "\n",
    "recommender_df['clustering_attributes'] = recommender_df['clustering_attributes'].apply(lambda x: convert(x))"
   ]
  },
  {
   "cell_type": "code",
   "execution_count": 224,
   "id": "fb906103-f350-4d50-966a-31da65fb8c29",
   "metadata": {},
   "outputs": [],
   "source": [
    "# setting title of movies/Tv shows as index\n",
    "recommender_df.set_index('title',inplace=True)"
   ]
  },
  {
   "cell_type": "code",
   "execution_count": 225,
   "id": "90cccd4f-af2a-4124-b20e-f10e1cd211f3",
   "metadata": {},
   "outputs": [],
   "source": [
    "# Count vectorizer\n",
    "CV = CountVectorizer()\n",
    "converted_matrix = CV.fit_transform(recommender_df['clustering_attributes'])\n"
   ]
  },
  {
   "cell_type": "code",
   "execution_count": 226,
   "id": "7debd49f-04d8-4dba-a449-4fe652c035cc",
   "metadata": {},
   "outputs": [],
   "source": [
    "# Cosine similarity\n",
    "cosine_similarity = cosine_similarity(converted_matrix)"
   ]
  },
  {
   "cell_type": "code",
   "execution_count": 227,
   "id": "b19c065b-cf12-4765-86f3-40840eab4817",
   "metadata": {},
   "outputs": [
    {
     "data": {
      "text/plain": [
       "(7787, 7787)"
      ]
     },
     "execution_count": 227,
     "metadata": {},
     "output_type": "execute_result"
    }
   ],
   "source": [
    "cosine_similarity.shape"
   ]
  },
  {
   "cell_type": "code",
   "execution_count": 228,
   "id": "79e24ec4-88ed-4e86-85b7-6294cef2081d",
   "metadata": {},
   "outputs": [],
   "source": [
    "# Developing a function to get 10 recommendations for a show\n",
    "indices = pd.Series(recommender_df.index)\n",
    "\n",
    "def recommend_10(title, cosine_sim = cosine_similarity):\n",
    "  try:\n",
    "    recommend_content = []   \n",
    "    idx = indices[indices == title].index[0]\n",
    "    series = pd.Series(cosine_sim[idx]).sort_values(ascending = False)\n",
    "    top10 = list(series.iloc[1:11].index)\n",
    "    # list with the titles of the best 10 matching movies\n",
    "    for i in top10:\n",
    "      recommend_content.append(list(recommender_df.index)[i])\n",
    "    print(\"If you liked '\"+title+\"', you may also enjoy:\\n\")\n",
    "    return recommend_content\n",
    "\n",
    "  except:\n",
    "    return 'Invalid Entry'"
   ]
  },
  {
   "cell_type": "code",
   "execution_count": 229,
   "id": "2030a973-3a73-4c58-b4ea-a1fd9fe3952c",
   "metadata": {},
   "outputs": [
    {
     "name": "stdout",
     "output_type": "stream",
     "text": [
      "If you liked 'A Man Called God', you may also enjoy:\n",
      "\n"
     ]
    },
    {
     "data": {
      "text/plain": [
       "['Mr. Sunshine',\n",
       " 'One Spring Night',\n",
       " 'Rugal',\n",
       " 'The King: Eternal Monarch',\n",
       " 'My Mister',\n",
       " 'My Little Baby',\n",
       " 'Reply 1994',\n",
       " 'Extracurricular',\n",
       " 'My Secret Romance',\n",
       " 'Chef & My Fridge']"
      ]
     },
     "execution_count": 229,
     "metadata": {},
     "output_type": "execute_result"
    }
   ],
   "source": [
    "# Recommendations for 'A Man Called God'\n",
    "recommend_10('A Man Called God')"
   ]
  },
  {
   "cell_type": "code",
   "execution_count": 230,
   "id": "e2917bcb-f10d-431f-86a0-c3bcdb5f5b76",
   "metadata": {},
   "outputs": [
    {
     "name": "stdout",
     "output_type": "stream",
     "text": [
      "If you liked 'Stranger Things', you may also enjoy:\n",
      "\n"
     ]
    },
    {
     "data": {
      "text/plain": [
       "['Beyond Stranger Things',\n",
       " 'Prank Encounters',\n",
       " 'The Umbrella Academy',\n",
       " 'Haunted',\n",
       " 'Scream',\n",
       " 'Warrior Nun',\n",
       " 'Nightflyers',\n",
       " 'Zombie Dumb',\n",
       " 'Kiss Me First',\n",
       " 'The Vampire Diaries']"
      ]
     },
     "execution_count": 230,
     "metadata": {},
     "output_type": "execute_result"
    }
   ],
   "source": [
    "# Recommendations for 'Stranger Things'\n",
    "recommend_10('Stranger Things')"
   ]
  },
  {
   "cell_type": "code",
   "execution_count": 231,
   "id": "912d77ee-9b5c-43a9-ba4e-a6a25add76fa",
   "metadata": {},
   "outputs": [
    {
     "name": "stdout",
     "output_type": "stream",
     "text": [
      "If you liked 'Peaky Blinders', you may also enjoy:\n",
      "\n"
     ]
    },
    {
     "data": {
      "text/plain": [
       "['Kiss Me First',\n",
       " 'Happy Valley',\n",
       " 'London Spy',\n",
       " 'The Frankenstein Chronicles',\n",
       " 'Paranoid',\n",
       " 'Get Even',\n",
       " 'Giri / Haji',\n",
       " 'My Hotter Half',\n",
       " 'The Murder Detectives',\n",
       " 'I AM A KILLER: RELEASED']"
      ]
     },
     "execution_count": 231,
     "metadata": {},
     "output_type": "execute_result"
    }
   ],
   "source": [
    "# Recommendations for 'Peaky Blinders'\n",
    "recommend_10('Peaky Blinders')"
   ]
  },
  {
   "cell_type": "code",
   "execution_count": 232,
   "id": "2fdc5a0f-ebf8-436a-9d3e-94fcf1ccf6ba",
   "metadata": {},
   "outputs": [
    {
     "name": "stdout",
     "output_type": "stream",
     "text": [
      "If you liked 'Lucifer', you may also enjoy:\n",
      "\n"
     ]
    },
    {
     "data": {
      "text/plain": [
       "['The Good Cop',\n",
       " 'Rica, Famosa, Latina',\n",
       " 'Get Shorty',\n",
       " 'Jack Taylor',\n",
       " 'Better Call Saul',\n",
       " 'Dramaworld',\n",
       " 'Father Brown',\n",
       " \"Marvel's Iron Fist\",\n",
       " 'Young Wallander',\n",
       " 'No Good Nick']"
      ]
     },
     "execution_count": 232,
     "metadata": {},
     "output_type": "execute_result"
    }
   ],
   "source": [
    "# Recommendations for 'Lucifer'\n",
    "recommend_10('Lucifer')"
   ]
  },
  {
   "cell_type": "code",
   "execution_count": 233,
   "id": "356f8e11-33e3-44b0-a1b9-c0849382fbf6",
   "metadata": {},
   "outputs": [
    {
     "data": {
      "text/plain": [
       "'Invalid Entry'"
      ]
     },
     "execution_count": 233,
     "metadata": {},
     "output_type": "execute_result"
    }
   ],
   "source": [
    "# Recommendations for 'XXX'\n",
    "recommend_10('XXX')"
   ]
  },
  {
   "cell_type": "markdown",
   "id": "c24140df-54ec-4b7c-a694-cf5d4db2c72e",
   "metadata": {},
   "source": [
    "# Conclusions:"
   ]
  },
  {
   "cell_type": "markdown",
   "id": "f0fedb0d-b649-4aca-a45e-7afd5991cddc",
   "metadata": {},
   "source": [
    "- In this project, I worked on a text clustering problem where in we had to classify/group the Netflix shows into certain clusters such that the shows within a cluster are similar to each other and the shows in different clusters are dissimilar to each other.\n",
    "- The dataset contained about 7787 records, and 11 attributes.\n",
    "- We began by dealing with the dataset's missing values and doing exploratory data analysis (EDA).\n",
    "- It was found that Netflix hosts more movies than TV shows on its platform, and the total number of shows added on Netflix is growing exponentially. Also, majority of the shows were produced in the United States, and the majority of the shows on Netflix were created for adults and young adults age group.\n",
    "- It was decided to cluster the data based on the attributes: director, cast, country, genre, and description. The values in these attributes were tokenized, preprocessed, and then vectorized using TFIDF vectorizer.\n",
    "- Through TFIDF Vectorization, we created a total of 20000 attributes.\n",
    "- We used Principal Component Analysis (PCA) to handle the curse of dimensionality. 4000 components were able to capture more than 80% of variance, and hence, the number of components were restricted to 4000.\n",
    "- We first built clusters using the k-means clustering algorithm, and the optimal number of clusters came out to be 6. This was obtained through the elbow method and Silhouette score analysis.\n",
    "- Then clusters were built using the Agglomerative clustering algorithm, and the optimal number of clusters came out to be 12. This was obtained after visualizing the dendrogram.\n",
    "- A content based recommender system was built using the similarity matrix obtained after using cosine similarity. This recommender system will make 10 recommendations to the user based on the type of show they watched.\n"
   ]
  },
  {
   "cell_type": "code",
   "execution_count": null,
   "id": "873ab7a1-ac1a-4a75-b062-72b2697f14e4",
   "metadata": {},
   "outputs": [],
   "source": []
  },
  {
   "cell_type": "code",
   "execution_count": null,
   "id": "ba49c4aa-a7cb-4bf1-a29d-6fd42305b724",
   "metadata": {},
   "outputs": [],
   "source": []
  }
 ],
 "metadata": {
  "kernelspec": {
   "display_name": "Python 3 (ipykernel)",
   "language": "python",
   "name": "python3"
  },
  "language_info": {
   "codemirror_mode": {
    "name": "ipython",
    "version": 3
   },
   "file_extension": ".py",
   "mimetype": "text/x-python",
   "name": "python",
   "nbconvert_exporter": "python",
   "pygments_lexer": "ipython3",
   "version": "3.12.7"
  }
 },
 "nbformat": 4,
 "nbformat_minor": 5
}
